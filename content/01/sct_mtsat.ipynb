{
 "cells": [
  {
   "cell_type": "markdown",
   "metadata": {},
   "source": [
    "# Image processing with Spinal Cord Toolbox (SCT)\n",
    "\n",
    "In this interactive notebook we will go through a series of processing steps specific to spinal cord MRI analysis. We first need to import the necessary tools and setup the filenames and folders in the notebook environment."
   ]
  },
  {
   "cell_type": "code",
   "execution_count": null,
   "metadata": {
    "kernel": "Python3"
   },
   "outputs": [],
   "source": [
    "%matplotlib inline\n",
    "import matplotlib.pyplot as plt\n",
    "import matplotlib.image as mpimg\n",
    "import numpy as np\n",
    "import sys\n",
    "import os\n",
    "from os.path import join\n",
    "from IPython.display import clear_output\n",
    "from repo2data.repo2data import Repo2Data\n",
    "\n",
    "base_path = os.getcwd()"
   ]
  },
  {
   "cell_type": "code",
   "execution_count": null,
   "metadata": {},
   "outputs": [],
   "source": [
    "## install the data if running locally, or points to cached data if running on neurolibre\n",
    "#data_req_path = os.path.join(\"/home/jovyan/work/sct-book\", \"binder\", \"data_requirement.json\")\n",
    "## download data\n",
    "#repo2data = Repo2Data(data_req_path)\n",
    "#data_path = repo2data.install()\n",
    "\n",
    "!osf -p 6zbyf fetch data/20160918_sct_example_data.zip ./sct_example_data.zip\n",
    "!unzip ./sct_example_data.zip"
   ]
  },
  {
   "cell_type": "code",
   "execution_count": null,
   "metadata": {
    "kernel": "Python3"
   },
   "outputs": [],
   "source": [
    "# Download example data\n",
    "#!sct_download_data -d sct_example_data\n",
    "\n",
    "# Go to MT folder\n",
    "os.chdir('sct_example_data/mt/')"
   ]
  },
  {
   "cell_type": "code",
   "execution_count": null,
   "metadata": {
    "kernel": "Python3"
   },
   "outputs": [],
   "source": [
    "# Jupyter Notebook config\n",
    "verbose = True # False clears cells\n",
    "\n",
    "# Folder/filename config\n",
    "parent_dirs = os.path.split(base_path)\n",
    "mt_folder_relative = os.path.join('sct_example_data/mt')\n",
    "qc_path = os.path.join(base_path, 'qc')\n",
    "\n",
    "t1w = 't1w'\n",
    "mt0 = 'mt0'\n",
    "mt1 = 'mt1'\n",
    "label_c3c4 = 'label_c3c4'\n",
    "warp_template2anat = 'warp_template2anat'\n",
    "mtr = 'mtr'\n",
    "mtsat = 'mtsat'\n",
    "t1map = 't1map'\n",
    "\n",
    "file_ext = '.nii.gz'\n",
    "\n",
    "if not verbose:\n",
    "    clear_output()"
   ]
  },
  {
   "cell_type": "markdown",
   "metadata": {},
   "source": [
    "The first processing step consists in segmenting the spinal cord. This is done automatically using an algorithm called [_Optic_](https://www.ncbi.nlm.nih.gov/pubmed/29288983) that finds the spinal cord centerline, followed by a second algorithm called [_DeepSeg-SC_](https://www.ncbi.nlm.nih.gov/pubmed/30300751) that relies on deep learning for segmenting the cord. "
   ]
  },
  {
   "cell_type": "code",
   "execution_count": null,
   "metadata": {
    "kernel": "Python3"
   },
   "outputs": [],
   "source": [
    "# Segment spinal cord\n",
    "!sct_deepseg_sc -i {t1w+file_ext} -c t1 -qc {qc_path}\n",
    "\n",
    "if not verbose:\n",
    "    clear_output()"
   ]
  },
  {
   "cell_type": "markdown",
   "metadata": {},
   "source": [
    "Results of the segmentation appear in Figure 1."
   ]
  },
  {
   "cell_type": "markdown",
   "metadata": {},
   "source": [
    "<p style=\"text-align:justify;\">\n",
    "<b>\n",
    "Figure 1. Quality control (QC) SCT module segmentation results. The segmentation (in red) is overlaid on the T1-weighted anatomical scan (in grayscale). Orientation is axial.\n",
    "</b>\n",
    "</p>"
   ]
  },
  {
   "cell_type": "code",
   "execution_count": null,
   "metadata": {
    "kernel": "Python3"
   },
   "outputs": [],
   "source": [
    "# Plot QC figures\n",
    "\n",
    "if sys.platform == 'darwin':\n",
    "    # For local testing on OSX    \n",
    "    sct_deepseg_sc_qc = 'qc/sct_example_data/mt/sct_deepseg_sc'\n",
    "else:\n",
    "    # For linux and on-line Binder execution\n",
    "    sct_deepseg_sc_qc = join(qc_path, parent_dirs[-1], mt_folder_relative, 'sct_deepseg_sc')\n",
    "\n",
    "folders = list(filter(lambda x: os.path.isdir(os.path.join(sct_deepseg_sc_qc, x)), os.listdir(sct_deepseg_sc_qc)))\n",
    "\n",
    "qc_date = max(folders)\n",
    "\n",
    "sct_deepseg_sc_qc_dir = join(sct_deepseg_sc_qc, qc_date)\n",
    "\n",
    "bkg = mpimg.imread(join(sct_deepseg_sc_qc_dir, 'bkg_img.png'))\n",
    "overlay = mpimg.imread(join(sct_deepseg_sc_qc_dir, 'overlay_img.png'))\n",
    "plt.figure(figsize = (20,2))\n",
    "plt.axis('off')\n",
    "imgplot = plt.imshow(bkg)\n",
    "imgplot = plt.imshow(overlay,alpha=0.3)"
   ]
  },
  {
   "cell_type": "markdown",
   "metadata": {},
   "source": [
    "A zoomed-in snapshot of the QC-generated image is shown below.\n",
    "\n",
    "<p>\n",
    "<center><img src=\"segmentation.png\" style=\"width:500px;height:auto;\"></center>\n",
    "</p>"
   ]
  },
  {
   "cell_type": "markdown",
   "metadata": {},
   "source": [
    "Using the generated segmentation, we create a mask around the spinal cord which will be used to crop the image for faster processing and more accurate registration results: the registration algorithm will concentrate on the spinal cord and not on the surrounding tissue (e.g., muscles, neck fat, etc.) which could move independently from the spinal cord and hence produce spurious motion correction results."
   ]
  },
  {
   "cell_type": "code",
   "execution_count": null,
   "metadata": {},
   "outputs": [],
   "source": [
    "!python --version"
   ]
  },
  {
   "cell_type": "code",
   "execution_count": null,
   "metadata": {
    "kernel": "Python3"
   },
   "outputs": [],
   "source": [
    "# Create mask\n",
    "!sct_create_mask -i {t1w+file_ext} -p centerline,{t1w+'_seg'+file_ext} -size 35mm -o {t1w+'_mask'+file_ext}\n",
    "\n",
    "# Crop data for faster processing\n",
    "!sct_crop_image -i {t1w+file_ext} -m {t1w+'_mask'+file_ext} -o {t1w+'_crop'+file_ext}\n",
    "\n",
    "if not verbose:\n",
    "    clear_output()"
   ]
  },
  {
   "cell_type": "markdown",
   "metadata": {},
   "source": [
    "Then, we register the proton density weighted (PD) image to the T1w image, and the MT-weighted image to the T1w image, so we end up with the T1w, MTw and PDw images all aligned together, which is a necessary condition for then computing quantitative MR metrics (here: MTsat)."
   ]
  },
  {
   "cell_type": "code",
   "execution_count": null,
   "metadata": {
    "kernel": "Python3"
   },
   "outputs": [],
   "source": [
    "# Register PD->T1w\n",
    "# Tips: here we only use rigid transformation because both images have very similar sequence parameters. We don't want to use SyN/BSplineSyN to avoid introducing spurious deformations.\n",
    "!sct_register_multimodal -i {mt0+file_ext} -d {t1w+'_crop'+file_ext} -param step=1,type=im,algo=rigid,slicewise=1,metric=CC -x spline\n",
    "\n",
    "# Register MT->T1w\n",
    "!sct_register_multimodal -i {mt1+file_ext} -d {t1w+'_crop'+file_ext} -param step=1,type=im,algo=rigid,slicewise=1,metric=CC -x spline\n",
    "\n",
    "if not verbose:\n",
    "    clear_output()"
   ]
  },
  {
   "cell_type": "markdown",
   "metadata": {},
   "source": [
    "Next step consists in registering the [PAM50 template](https://www.ncbi.nlm.nih.gov/pubmed/29061527) to the T1w image. We first create a label, centered in the spinal cord at level C3-C4 intervertebral disc, then we apply a multi-step non-linear registration algorithm."
   ]
  },
  {
   "cell_type": "code",
   "execution_count": null,
   "metadata": {
    "kernel": "Python3"
   },
   "outputs": [],
   "source": [
    "# Create label 4 at the mid-FOV, because we know the FOV is centered at C3-C4 disc.\n",
    "!sct_label_utils -i {t1w+'_seg'+file_ext} -create-seg-mid 4 -o {label_c3c4+file_ext}\n",
    "\n",
    "# Register template->T1w_ax (using template-T1w as initial transformation)\n",
    "!sct_register_to_template -i {t1w+'_crop'+file_ext} -s {t1w+'_seg'+file_ext} -ldisc {label_c3c4+file_ext} -ref subject -c t1 -param step=1,type=seg,algo=slicereg,metric=MeanSquares,smooth=2:step=2,type=im,algo=bsplinesyn,metric=MeanSquares,iter=5,gradStep=0.5 -qc {qc_path}\n",
    "\n",
    "if not verbose:\n",
    "    clear_output()"
   ]
  },
  {
   "cell_type": "markdown",
   "metadata": {},
   "source": [
    "Once the PAM50 is registered with the T1w image, we can warp all objects pertaining to the PAM50 into the T1w native space. These objects notably include a [white matter atlas](https://www.ncbi.nlm.nih.gov/pubmed/26099457), which will be subsequently used to extract qMR metrics within specific white matter tracts."
   ]
  },
  {
   "cell_type": "code",
   "execution_count": null,
   "metadata": {
    "kernel": "Python3"
   },
   "outputs": [],
   "source": [
    "# Warp template\n",
    "!sct_warp_template -d {t1w+'_crop'+file_ext} -w {warp_template2anat+file_ext} -qc {qc_path}\n",
    "\n",
    "if not verbose:\n",
    "    clear_output()"
   ]
  },
  {
   "cell_type": "raw",
   "metadata": {},
   "source": [
    "Results of the registration/warming appear in Figure 2."
   ]
  },
  {
   "cell_type": "markdown",
   "metadata": {},
   "source": [
    "<p style=\"text-align:justify;\">\n",
    "<b>\n",
    "Figure 2. Quality control (QC) SCT module registration/warping results of the PAM50 template and atlas to the T1w native space. The white matter (in blue) is overlaid on the T1-weighted anatomical scan (in grayscale). Orientation is axial. \n",
    "</b>\n",
    "</p>"
   ]
  },
  {
   "cell_type": "code",
   "execution_count": null,
   "metadata": {
    "kernel": "Python3"
   },
   "outputs": [],
   "source": [
    "# Plot QC figures\n",
    "if sys.platform == 'darwin':\n",
    "    # For local testing on OSX    \n",
    "    sct_warp_template_qc = 'qc/sct_example_data/mt/sct_warp_template'\n",
    "else:\n",
    "    # For linux and on-line Binder execution\n",
    "    sct_warp_template_qc = join(qc_path, parent_dirs[-1],  mt_folder_relative, 'sct_warp_template')\n",
    "\n",
    "folders = list(filter(lambda x: os.path.isdir(os.path.join(sct_warp_template_qc, x)), os.listdir(sct_warp_template_qc)))\n",
    "qc_date = max(folders)\n",
    "\n",
    "sct_warp_template_qc_dir = join(sct_warp_template_qc, qc_date)\n",
    "\n",
    "bkg = mpimg.imread(join(sct_warp_template_qc_dir, 'bkg_img.png'))\n",
    "overlay = mpimg.imread(join(sct_warp_template_qc_dir, 'overlay_img.png'))\n",
    "plt.figure(figsize = (20,2))\n",
    "plt.axis('off')\n",
    "imgplot = plt.imshow(bkg)\n",
    "imgplot = plt.imshow(overlay,alpha=0.3)"
   ]
  },
  {
   "cell_type": "markdown",
   "metadata": {},
   "source": [
    "A zoomed-in snapshot of the QC-generated warped \n",
    "\n",
    "<p>\n",
    "<center><img src=\"warp.png\" style=\"width:500px;height:auto;\"></center>\n",
    "</p>"
   ]
  },
  {
   "cell_type": "markdown",
   "metadata": {},
   "source": [
    "Once co-registration between images and registration to the template is complete, we can venture into computing our favorite qMR metrics. Here, we compute the magnetization transfer ratio (MTR) and the magnetization transfer saturation (MTsat)."
   ]
  },
  {
   "cell_type": "code",
   "execution_count": null,
   "metadata": {
    "kernel": "Python3"
   },
   "outputs": [],
   "source": [
    "# Compute MTR\n",
    "!sct_compute_mtr -mt1 {mt1+'_reg'+file_ext} -mt0 {mt0+'_reg'+file_ext}\n",
    "\n",
    "# Compute MTsat and T1\n",
    "!sct_compute_mtsat -mt {mt1+'_reg'+file_ext} -pd {mt0+'_reg'+file_ext} -t1 {t1w+'_crop'+file_ext} -trmt 57 -trpd 57 -trt1 15 -famt 9 -fapd 9 -fat1 15\n",
    "\n",
    "if not verbose:\n",
    "    clear_output()"
   ]
  },
  {
   "cell_type": "markdown",
   "metadata": {},
   "source": [
    "Now that our metrics are computed, we want to extract their values within specific tracts of the spinal cord. This is done with the function `sct_extract_metric`."
   ]
  },
  {
   "cell_type": "code",
   "execution_count": null,
   "metadata": {
    "kernel": "Python3"
   },
   "outputs": [],
   "source": [
    "# Extract MTR, MTsat and T1 in WM between C2 and C4 vertebral levels\n",
    "!sct_extract_metric -i mtr.nii.gz -l 51 -vert 2:4 -perlevel 1 -o mtr_in_wm.csv\n",
    "!sct_extract_metric -i mtsat.nii.gz -l 51 -vert 2:4 -perlevel 1 -o mtsat_in_wm.csv\n",
    "!sct_extract_metric -i t1map.nii.gz -l 51 -vert 2:4 -perlevel 1 -o t1_in_wm.csv\n",
    "\n",
    "if not verbose:\n",
    "    clear_output()"
   ]
  },
  {
   "cell_type": "markdown",
   "metadata": {},
   "source": [
    "Results are output as csv files, which we can then open and display as bar graphs."
   ]
  },
  {
   "cell_type": "markdown",
   "metadata": {},
   "source": [
    "<p style=\"text-align:justify;\">\n",
    "<b>\n",
    "Figure 3. Quantitative MRI metrics in WM between C2 and C4 vertebral levels. The three calculated metrics from this dataset using SCT are the magnetization transfer ratio (MTR – [%]), magnetization transfer saturation (MTsat – [a.u.]), and longitudinal relaxation time (T1 – [s]).\n",
    "</b>\n",
    "</p>"
   ]
  },
  {
   "cell_type": "code",
   "execution_count": null,
   "metadata": {},
   "outputs": [],
   "source": [
    "# Display plots of results\n",
    "import pandas as pd\n",
    "fig, ax = plt.subplots(ncols=3, figsize=(15,4))\n",
    "\n",
    "# Build dic for plot\n",
    "plot_dic = {'file': ['mtr_in_wm.csv', 'mtsat_in_wm.csv', 't1_in_wm.csv'],\n",
    "            'ylabel': ['MTR [%]', 'MTsat [a.u.]', 'T1 [s]']}\n",
    "\n",
    "# Loop across dic entries\n",
    "for i in range(len(plot_dic)+1):\n",
    "    df = pd.read_csv(plot_dic['file'][i])\n",
    "    df.plot.bar(x='VertLevel', y='WA()', rot=0, ax=ax[i], legend=False)\n",
    "    ax[i].set_ylabel(plot_dic['ylabel'][i])\n",
    "    ax[i].yaxis.grid()"
   ]
  }
 ],
 "metadata": {
  "kernelspec": {
   "display_name": "Python 3",
   "language": "python",
   "name": "python3"
  },
  "language_info": {
   "codemirror_mode": {
    "name": "ipython",
    "version": 3
   },
   "file_extension": ".py",
   "mimetype": "text/x-python",
   "name": "python",
   "nbconvert_exporter": "python",
   "pygments_lexer": "ipython3",
   "version": "3.8.8"
  },
  "sos": {
   "kernels": [
    [
     "Python3",
     "python3",
     "Python3",
     "#FFD91A"
    ]
   ],
   "version": "0.17.2"
  }
 },
 "nbformat": 4,
 "nbformat_minor": 2
}
