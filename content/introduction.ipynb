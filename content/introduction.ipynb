{
 "cells": [
  {
   "cell_type": "markdown",
   "metadata": {},
   "source": [
    "# Home"
   ]
  },
  {
   "cell_type": "markdown",
   "metadata": {},
   "source": [
    "In this interactive notebook we will go through a series of processing steps specific to spinal cord MRI analysis. We will be using the [Spinal Cord Toolbox (SCT)](https://github.com/neuropoly/spinalcordtoolbox), lead by Prof. Julien Cohen-Adad and the [NeuroPoly](https://www.neuro.polymtl.ca) lab at Polytechnique de Montréal. The main goal is to demonstrate an end-to-end template-based analysis pipeline, where we start of with the raw NIFTI data and end up with quantitative metrics. Here, the metric will be magnetization transfer saturation (MTsat) extracted in specific white matter tracts. "
   ]
  },
  {
   "cell_type": "markdown",
   "metadata": {},
   "source": [
    "## Acknowledgements\n",
    "\n",
    "The development of this notebook was supported by the <a href=\"http://conp.ca\" target=\"_blank\">Canadian Open Neuroscience Platform (CONP)</a> initiative, the <a href=\"https://www.rbiq-qbin.qc.ca/\" target=\"_blank\">Quebec Bio-Imaging Network (QBIN)</a>, and the <a href=\"https://www.icm-mhi.org/en/foundation\" target=\"_blank\">Montreal Heart Institute Foundation</a>.\n",
    "\n"
   ]
  },
  {
   "cell_type": "code",
   "execution_count": null,
   "metadata": {},
   "outputs": [],
   "source": []
  }
 ],
 "metadata": {
  "kernelspec": {
   "display_name": "Python 3",
   "language": "python",
   "name": "python3"
  },
  "language_info": {
   "codemirror_mode": {
    "name": "ipython",
    "version": 3
   },
   "file_extension": ".py",
   "mimetype": "text/x-python",
   "name": "python",
   "nbconvert_exporter": "python",
   "pygments_lexer": "ipython3",
   "version": "3.8.8"
  }
 },
 "nbformat": 4,
 "nbformat_minor": 2
}
